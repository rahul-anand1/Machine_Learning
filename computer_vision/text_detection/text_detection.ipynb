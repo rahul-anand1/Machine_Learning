{
 "cells": [
  {
   "cell_type": "code",
   "execution_count": 1,
   "metadata": {},
   "outputs": [],
   "source": [
    "# import the necessary packages\n",
    "from imutils.object_detection import non_max_suppression\n",
    "import numpy as np\n",
    "import argparse\n",
    "import time\n",
    "import cv2\n",
    "import os"
   ]
  },
  {
   "cell_type": "code",
   "execution_count": 2,
   "metadata": {},
   "outputs": [],
   "source": [
    "# Path to files\n",
    "image_folder = 'images'\n",
    "image_name = 'lebron_james.jpg'\n",
    "imagepath = os.path.join(image_folder, image_name)\n",
    "model = 'frozen_east_text_detection.pb'\n",
    "min_prob = 0.5\n",
    "height = 320\n",
    "width = 320"
   ]
  },
  {
   "cell_type": "code",
   "execution_count": 3,
   "metadata": {},
   "outputs": [],
   "source": [
    "# Loading the image and get the image dimensions\n",
    "image = cv2.imread(imagepath)\n",
    "orig = image.copy()\n",
    "(h, w) = image.shape[:2]"
   ]
  },
  {
   "cell_type": "code",
   "execution_count": 4,
   "metadata": {},
   "outputs": [],
   "source": [
    "(newW, newH) = (width, height)\n",
    "rW = w / float(newW)\n",
    "rH = h / float(newH)\n",
    "\n",
    "# resize the image and grab the new image dimensions\n",
    "image = cv2.resize(image, (newW, newH))\n",
    "(h, w) = image.shape[:2]"
   ]
  },
  {
   "cell_type": "code",
   "execution_count": 5,
   "metadata": {},
   "outputs": [],
   "source": [
    "# loading the EAST text detector\n",
    "model = cv2.dnn.readNet(model)"
   ]
  },
  {
   "cell_type": "code",
   "execution_count": 6,
   "metadata": {},
   "outputs": [],
   "source": [
    "# layers that are needed to be extracted\n",
    "layerNames = [\"feature_fusion/Conv_7/Sigmoid\", \"feature_fusion/concat_3\"]"
   ]
  },
  {
   "cell_type": "code",
   "execution_count": 7,
   "metadata": {},
   "outputs": [],
   "source": [
    "blob = cv2.dnn.blobFromImage(image, 1.0, (w,h), (123.68, 116.78, 103.94), swapRB=True, crop=False)"
   ]
  },
  {
   "cell_type": "code",
   "execution_count": 8,
   "metadata": {},
   "outputs": [],
   "source": [
    "# View the blob that is created\n",
    "blobb = blob.reshape(blob.shape[2],blob.shape[3],blob.shape[1])\n",
    "cv2.imshow('Blob',blobb)\n",
    "cv2.waitKey(5000)\n",
    "cv2.destroyAllWindows()"
   ]
  },
  {
   "cell_type": "code",
   "execution_count": 9,
   "metadata": {},
   "outputs": [
    {
     "name": "stdout",
     "output_type": "stream",
     "text": [
      "Text detection took : 0.3570098876953125 seconds\n"
     ]
    }
   ],
   "source": [
    "# obtain the output layers sets\n",
    "start = time.time()\n",
    "model.setInput(blob)\n",
    "(score, geometry) = model.forward(layerNames)\n",
    "end = time.time()\n",
    "\n",
    "print(\"Text detection took : {} seconds\".format(end-start))\n"
   ]
  },
  {
   "cell_type": "code",
   "execution_count": 10,
   "metadata": {},
   "outputs": [
    {
     "data": {
      "text/plain": [
       "(80, 80)"
      ]
     },
     "execution_count": 10,
     "metadata": {},
     "output_type": "execute_result"
    }
   ],
   "source": [
    "score.shape[2:4]"
   ]
  },
  {
   "cell_type": "code",
   "execution_count": 11,
   "metadata": {},
   "outputs": [
    {
     "data": {
      "text/plain": [
       "(1, 5, 80, 80)"
      ]
     },
     "execution_count": 11,
     "metadata": {},
     "output_type": "execute_result"
    }
   ],
   "source": [
    "geometry.shape"
   ]
  },
  {
   "cell_type": "code",
   "execution_count": 12,
   "metadata": {},
   "outputs": [],
   "source": [
    "(num_rows, num_cols) = score.shape[2:4]"
   ]
  },
  {
   "cell_type": "code",
   "execution_count": 13,
   "metadata": {},
   "outputs": [],
   "source": [
    "rects = []\n",
    "confidence = []\n",
    "for y in range(0, num_rows):\n",
    "    score_data = score[0,0,y]\n",
    "    x0 = geometry[0,0,y]\n",
    "    x1 = geometry[0,1,y]\n",
    "    x2 = geometry[0,2,y]\n",
    "    x3 = geometry[0,3,y]\n",
    "    angles_data = geometry[0,4,y]\n",
    "    \n",
    "    for x in range(0, num_cols):\n",
    "        if score_data.all() < min_prob:\n",
    "            continue\n",
    "        \n",
    "        # compute the offset factor as our resulting feature maps will be 4x smaller than input image\n",
    "        (offsetX, offsetY) = (x * 4.0, y * 4.0)\n",
    "        \n",
    "        # calculate the rotation angle \n",
    "        angle = angles_data[x]\n",
    "        cos = np.cos(angle)\n",
    "        sin = np.sin(angle)\n",
    "        \n",
    "        # use geometry volume to derive the the width and height of bounding box\n",
    "        h = x0[x] + x1[x]\n",
    "        w = x1[x] + x3[x]\n",
    "        \n",
    "        # compute both starting and ending (x, y) coordinates for text prediction\n",
    "        endX = int(offsetX + (cos * x1[x]) + (sin * x2[x]))\n",
    "        endY = int(offsetY + (sin * x1[x]) + (cos * x2[x]))\n",
    "        startX = int(endX - w)\n",
    "        startY = int(endY - h)\n",
    "        \n",
    "        # add the bounding box coordinates and probabiity score\n",
    "        rects.append((startX, startY, endX, endY))\n",
    "        confidence.append(score_data[x])\n",
    "        \n",
    "# apply non-maxima suppression to suppress weak, overlapping bounding boxes\n",
    "boxes = non_max_suppression(np.array(rects), probs=min_prob)\n",
    "            \n",
    "    \n",
    "    "
   ]
  },
  {
   "cell_type": "code",
   "execution_count": 14,
   "metadata": {},
   "outputs": [],
   "source": [
    "# loop over the bounding boxes\n",
    "for (startX, startY, endX, endY) in boxes:\n",
    "    startX = int(startX * rW)\n",
    "    startY = int(startY * rH)\n",
    "    endX = int(endX * rW)\n",
    "    endY = int(endY * rH)\n",
    "    \n",
    "    cv2.rectangle(orig, (startX, startY), (endX, endY), (0, 255, 0), 2)"
   ]
  },
  {
   "cell_type": "code",
   "execution_count": 15,
   "metadata": {},
   "outputs": [],
   "source": [
    "cv2.imshow('Text Detection', orig)\n",
    "cv2.waitKey(5000)\n",
    "cv2.destroyAllWindows()"
   ]
  },
  {
   "cell_type": "code",
   "execution_count": null,
   "metadata": {},
   "outputs": [],
   "source": []
  }
 ],
 "metadata": {
  "kernelspec": {
   "display_name": "Python 3",
   "language": "python",
   "name": "python3"
  },
  "language_info": {
   "codemirror_mode": {
    "name": "ipython",
    "version": 3
   },
   "file_extension": ".py",
   "mimetype": "text/x-python",
   "name": "python",
   "nbconvert_exporter": "python",
   "pygments_lexer": "ipython3",
   "version": "3.8.3"
  }
 },
 "nbformat": 4,
 "nbformat_minor": 4
}
